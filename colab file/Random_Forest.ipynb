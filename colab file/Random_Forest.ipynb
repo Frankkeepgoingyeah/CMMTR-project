{
  "cells": [
    {
      "cell_type": "code",
      "execution_count": null,
      "metadata": {
        "id": "agOhBsi-xB8W"
      },
      "outputs": [],
      "source": [
        "import os\n",
        "import pandas as pd\n",
        "import numpy as np"
      ]
    },
    {
      "cell_type": "markdown",
      "metadata": {
        "id": "JTeFcZ1AfPOk"
      },
      "source": []
    },
    {
      "cell_type": "code",
      "execution_count": null,
      "metadata": {
        "colab": {
          "base_uri": "https://localhost:8080/"
        },
        "id": "haTiZ0sPxDsf",
        "outputId": "9d53a5db-56eb-4b2d-e2df-7e7d7f6b2156"
      },
      "outputs": [
        {
          "name": "stdout",
          "output_type": "stream",
          "text": [
            "Drive already mounted at /content/drive; to attempt to forcibly remount, call drive.mount(\"/content/drive\", force_remount=True).\n"
          ]
        }
      ],
      "source": [
        "# load google drive for files \n",
        "# from google.colab import drive\n",
        "# drive.mount('/content/drive')"
      ]
    },
    {
      "cell_type": "code",
      "execution_count": null,
      "metadata": {
        "colab": {
          "base_uri": "https://localhost:8080/"
        },
        "id": "S9Qlit3nxFcJ",
        "outputId": "37f9b611-f501-481a-dc85-0aca20030502"
      },
      "outputs": [
        {
          "name": "stdout",
          "output_type": "stream",
          "text": [
            "         Unnamed: 0   index  CalendarDateKey interval_start  n_validations  \\\n",
            "1356705     1356705  1372.0         20191128       08:30:00              7   \n",
            "1356706     1356706  1372.0         20191129       06:00:00              6   \n",
            "1356707     1356707  1372.0         20191129       06:30:00              7   \n",
            "1356708     1356708  1372.0         20191129       07:30:00             13   \n",
            "1356709     1356709  1372.0         20191129       08:00:00              5   \n",
            "\n",
            "                date_time  \n",
            "1356705  2019112808:30:00  \n",
            "1356706  2019112906:00:00  \n",
            "1356707  2019112906:30:00  \n",
            "1356708  2019112907:30:00  \n",
            "1356709  2019112908:00:00  \n"
          ]
        }
      ],
      "source": [
        "#Read the csv file\n",
        "data = pd.read_csv('/content/drive/MyDrive/Colab Notebooks/ Data_pol2/merged_griddata2019.csv')\n",
        "\n",
        "data['date_time'] = data['CalendarDateKey'].astype(str) + data['interval_start']\n",
        "print(data.tail()) #7 columns, including the Date. "
      ]
    },
    {
      "cell_type": "code",
      "execution_count": null,
      "metadata": {
        "id": "IYIQ_ttNxK7r"
      },
      "outputs": [],
      "source": [
        "import datetime\n",
        "#process the matrix\n",
        "df_for_training=data.pivot(index='date_time',\n",
        "                  columns='index',\n",
        "                  values='n_validations'\n",
        "                  )\n",
        "df_for_training.index = pd.to_datetime(df_for_training.index, format='%Y%m%d%H:%M:%S')"
      ]
    },
    {
      "cell_type": "markdown",
      "metadata": {
        "id": "b7YEML3GfW_i"
      },
      "source": []
    },
    {
      "cell_type": "code",
      "execution_count": null,
      "metadata": {
        "colab": {
          "base_uri": "https://localhost:8080/",
          "height": 267
        },
        "id": "AHd788ZWqKHr",
        "outputId": "2c38e8e7-0032-4ba1-c8aa-958b8d95c37c"
      },
      "outputs": [
        {
          "data": {
            "text/html": [
              "\n",
              "  <div id=\"df-81ee63d8-8cb0-4365-a516-c450c3947672\">\n",
              "    <div class=\"colab-df-container\">\n",
              "      <div>\n",
              "<style scoped>\n",
              "    .dataframe tbody tr th:only-of-type {\n",
              "        vertical-align: middle;\n",
              "    }\n",
              "\n",
              "    .dataframe tbody tr th {\n",
              "        vertical-align: top;\n",
              "    }\n",
              "\n",
              "    .dataframe thead th {\n",
              "        text-align: right;\n",
              "    }\n",
              "</style>\n",
              "<table border=\"1\" class=\"dataframe\">\n",
              "  <thead>\n",
              "    <tr style=\"text-align: right;\">\n",
              "      <th>index</th>\n",
              "      <th>0.0</th>\n",
              "      <th>1.0</th>\n",
              "      <th>2.0</th>\n",
              "      <th>3.0</th>\n",
              "      <th>4.0</th>\n",
              "      <th>10.0</th>\n",
              "      <th>12.0</th>\n",
              "      <th>13.0</th>\n",
              "      <th>19.0</th>\n",
              "      <th>20.0</th>\n",
              "      <th>...</th>\n",
              "      <th>1329.0</th>\n",
              "      <th>1334.0</th>\n",
              "      <th>1335.0</th>\n",
              "      <th>1342.0</th>\n",
              "      <th>1347.0</th>\n",
              "      <th>1348.0</th>\n",
              "      <th>1350.0</th>\n",
              "      <th>1361.0</th>\n",
              "      <th>1362.0</th>\n",
              "      <th>1372.0</th>\n",
              "    </tr>\n",
              "    <tr>\n",
              "      <th>date_time</th>\n",
              "      <th></th>\n",
              "      <th></th>\n",
              "      <th></th>\n",
              "      <th></th>\n",
              "      <th></th>\n",
              "      <th></th>\n",
              "      <th></th>\n",
              "      <th></th>\n",
              "      <th></th>\n",
              "      <th></th>\n",
              "      <th></th>\n",
              "      <th></th>\n",
              "      <th></th>\n",
              "      <th></th>\n",
              "      <th></th>\n",
              "      <th></th>\n",
              "      <th></th>\n",
              "      <th></th>\n",
              "      <th></th>\n",
              "      <th></th>\n",
              "      <th></th>\n",
              "    </tr>\n",
              "  </thead>\n",
              "  <tbody>\n",
              "    <tr>\n",
              "      <th>2019-11-30 20:00:00</th>\n",
              "      <td>NaN</td>\n",
              "      <td>NaN</td>\n",
              "      <td>NaN</td>\n",
              "      <td>NaN</td>\n",
              "      <td>NaN</td>\n",
              "      <td>NaN</td>\n",
              "      <td>NaN</td>\n",
              "      <td>NaN</td>\n",
              "      <td>NaN</td>\n",
              "      <td>NaN</td>\n",
              "      <td>...</td>\n",
              "      <td>NaN</td>\n",
              "      <td>NaN</td>\n",
              "      <td>NaN</td>\n",
              "      <td>NaN</td>\n",
              "      <td>NaN</td>\n",
              "      <td>NaN</td>\n",
              "      <td>NaN</td>\n",
              "      <td>NaN</td>\n",
              "      <td>NaN</td>\n",
              "      <td>NaN</td>\n",
              "    </tr>\n",
              "    <tr>\n",
              "      <th>2019-11-30 20:30:00</th>\n",
              "      <td>NaN</td>\n",
              "      <td>NaN</td>\n",
              "      <td>NaN</td>\n",
              "      <td>NaN</td>\n",
              "      <td>NaN</td>\n",
              "      <td>NaN</td>\n",
              "      <td>NaN</td>\n",
              "      <td>NaN</td>\n",
              "      <td>NaN</td>\n",
              "      <td>NaN</td>\n",
              "      <td>...</td>\n",
              "      <td>NaN</td>\n",
              "      <td>NaN</td>\n",
              "      <td>NaN</td>\n",
              "      <td>NaN</td>\n",
              "      <td>NaN</td>\n",
              "      <td>5.0</td>\n",
              "      <td>NaN</td>\n",
              "      <td>NaN</td>\n",
              "      <td>NaN</td>\n",
              "      <td>NaN</td>\n",
              "    </tr>\n",
              "    <tr>\n",
              "      <th>2019-11-30 21:00:00</th>\n",
              "      <td>NaN</td>\n",
              "      <td>NaN</td>\n",
              "      <td>NaN</td>\n",
              "      <td>NaN</td>\n",
              "      <td>NaN</td>\n",
              "      <td>NaN</td>\n",
              "      <td>NaN</td>\n",
              "      <td>NaN</td>\n",
              "      <td>NaN</td>\n",
              "      <td>NaN</td>\n",
              "      <td>...</td>\n",
              "      <td>NaN</td>\n",
              "      <td>NaN</td>\n",
              "      <td>NaN</td>\n",
              "      <td>NaN</td>\n",
              "      <td>NaN</td>\n",
              "      <td>5.0</td>\n",
              "      <td>NaN</td>\n",
              "      <td>NaN</td>\n",
              "      <td>5.0</td>\n",
              "      <td>NaN</td>\n",
              "    </tr>\n",
              "    <tr>\n",
              "      <th>2019-11-30 21:30:00</th>\n",
              "      <td>NaN</td>\n",
              "      <td>NaN</td>\n",
              "      <td>NaN</td>\n",
              "      <td>NaN</td>\n",
              "      <td>NaN</td>\n",
              "      <td>NaN</td>\n",
              "      <td>NaN</td>\n",
              "      <td>NaN</td>\n",
              "      <td>NaN</td>\n",
              "      <td>NaN</td>\n",
              "      <td>...</td>\n",
              "      <td>NaN</td>\n",
              "      <td>NaN</td>\n",
              "      <td>NaN</td>\n",
              "      <td>NaN</td>\n",
              "      <td>NaN</td>\n",
              "      <td>NaN</td>\n",
              "      <td>NaN</td>\n",
              "      <td>NaN</td>\n",
              "      <td>NaN</td>\n",
              "      <td>NaN</td>\n",
              "    </tr>\n",
              "    <tr>\n",
              "      <th>2019-11-30 22:00:00</th>\n",
              "      <td>NaN</td>\n",
              "      <td>NaN</td>\n",
              "      <td>NaN</td>\n",
              "      <td>NaN</td>\n",
              "      <td>NaN</td>\n",
              "      <td>NaN</td>\n",
              "      <td>NaN</td>\n",
              "      <td>NaN</td>\n",
              "      <td>NaN</td>\n",
              "      <td>NaN</td>\n",
              "      <td>...</td>\n",
              "      <td>NaN</td>\n",
              "      <td>NaN</td>\n",
              "      <td>NaN</td>\n",
              "      <td>NaN</td>\n",
              "      <td>NaN</td>\n",
              "      <td>NaN</td>\n",
              "      <td>NaN</td>\n",
              "      <td>NaN</td>\n",
              "      <td>13.0</td>\n",
              "      <td>NaN</td>\n",
              "    </tr>\n",
              "  </tbody>\n",
              "</table>\n",
              "<p>5 rows × 700 columns</p>\n",
              "</div>\n",
              "      <button class=\"colab-df-convert\" onclick=\"convertToInteractive('df-81ee63d8-8cb0-4365-a516-c450c3947672')\"\n",
              "              title=\"Convert this dataframe to an interactive table.\"\n",
              "              style=\"display:none;\">\n",
              "        \n",
              "  <svg xmlns=\"http://www.w3.org/2000/svg\" height=\"24px\"viewBox=\"0 0 24 24\"\n",
              "       width=\"24px\">\n",
              "    <path d=\"M0 0h24v24H0V0z\" fill=\"none\"/>\n",
              "    <path d=\"M18.56 5.44l.94 2.06.94-2.06 2.06-.94-2.06-.94-.94-2.06-.94 2.06-2.06.94zm-11 1L8.5 8.5l.94-2.06 2.06-.94-2.06-.94L8.5 2.5l-.94 2.06-2.06.94zm10 10l.94 2.06.94-2.06 2.06-.94-2.06-.94-.94-2.06-.94 2.06-2.06.94z\"/><path d=\"M17.41 7.96l-1.37-1.37c-.4-.4-.92-.59-1.43-.59-.52 0-1.04.2-1.43.59L10.3 9.45l-7.72 7.72c-.78.78-.78 2.05 0 2.83L4 21.41c.39.39.9.59 1.41.59.51 0 1.02-.2 1.41-.59l7.78-7.78 2.81-2.81c.8-.78.8-2.07 0-2.86zM5.41 20L4 18.59l7.72-7.72 1.47 1.35L5.41 20z\"/>\n",
              "  </svg>\n",
              "      </button>\n",
              "      \n",
              "  <style>\n",
              "    .colab-df-container {\n",
              "      display:flex;\n",
              "      flex-wrap:wrap;\n",
              "      gap: 12px;\n",
              "    }\n",
              "\n",
              "    .colab-df-convert {\n",
              "      background-color: #E8F0FE;\n",
              "      border: none;\n",
              "      border-radius: 50%;\n",
              "      cursor: pointer;\n",
              "      display: none;\n",
              "      fill: #1967D2;\n",
              "      height: 32px;\n",
              "      padding: 0 0 0 0;\n",
              "      width: 32px;\n",
              "    }\n",
              "\n",
              "    .colab-df-convert:hover {\n",
              "      background-color: #E2EBFA;\n",
              "      box-shadow: 0px 1px 2px rgba(60, 64, 67, 0.3), 0px 1px 3px 1px rgba(60, 64, 67, 0.15);\n",
              "      fill: #174EA6;\n",
              "    }\n",
              "\n",
              "    [theme=dark] .colab-df-convert {\n",
              "      background-color: #3B4455;\n",
              "      fill: #D2E3FC;\n",
              "    }\n",
              "\n",
              "    [theme=dark] .colab-df-convert:hover {\n",
              "      background-color: #434B5C;\n",
              "      box-shadow: 0px 1px 3px 1px rgba(0, 0, 0, 0.15);\n",
              "      filter: drop-shadow(0px 1px 2px rgba(0, 0, 0, 0.3));\n",
              "      fill: #FFFFFF;\n",
              "    }\n",
              "  </style>\n",
              "\n",
              "      <script>\n",
              "        const buttonEl =\n",
              "          document.querySelector('#df-81ee63d8-8cb0-4365-a516-c450c3947672 button.colab-df-convert');\n",
              "        buttonEl.style.display =\n",
              "          google.colab.kernel.accessAllowed ? 'block' : 'none';\n",
              "\n",
              "        async function convertToInteractive(key) {\n",
              "          const element = document.querySelector('#df-81ee63d8-8cb0-4365-a516-c450c3947672');\n",
              "          const dataTable =\n",
              "            await google.colab.kernel.invokeFunction('convertToInteractive',\n",
              "                                                     [key], {});\n",
              "          if (!dataTable) return;\n",
              "\n",
              "          const docLinkHtml = 'Like what you see? Visit the ' +\n",
              "            '<a target=\"_blank\" href=https://colab.research.google.com/notebooks/data_table.ipynb>data table notebook</a>'\n",
              "            + ' to learn more about interactive tables.';\n",
              "          element.innerHTML = '';\n",
              "          dataTable['output_type'] = 'display_data';\n",
              "          await google.colab.output.renderOutput(dataTable, element);\n",
              "          const docLink = document.createElement('div');\n",
              "          docLink.innerHTML = docLinkHtml;\n",
              "          element.appendChild(docLink);\n",
              "        }\n",
              "      </script>\n",
              "    </div>\n",
              "  </div>\n",
              "  "
            ],
            "text/plain": [
              "index                0.0     1.0     2.0     3.0     4.0     10.0    12.0    \\\n",
              "date_time                                                                     \n",
              "2019-11-30 20:00:00     NaN     NaN     NaN     NaN     NaN     NaN     NaN   \n",
              "2019-11-30 20:30:00     NaN     NaN     NaN     NaN     NaN     NaN     NaN   \n",
              "2019-11-30 21:00:00     NaN     NaN     NaN     NaN     NaN     NaN     NaN   \n",
              "2019-11-30 21:30:00     NaN     NaN     NaN     NaN     NaN     NaN     NaN   \n",
              "2019-11-30 22:00:00     NaN     NaN     NaN     NaN     NaN     NaN     NaN   \n",
              "\n",
              "index                13.0    19.0    20.0    ...  1329.0  1334.0  1335.0  \\\n",
              "date_time                                    ...                           \n",
              "2019-11-30 20:00:00     NaN     NaN     NaN  ...     NaN     NaN     NaN   \n",
              "2019-11-30 20:30:00     NaN     NaN     NaN  ...     NaN     NaN     NaN   \n",
              "2019-11-30 21:00:00     NaN     NaN     NaN  ...     NaN     NaN     NaN   \n",
              "2019-11-30 21:30:00     NaN     NaN     NaN  ...     NaN     NaN     NaN   \n",
              "2019-11-30 22:00:00     NaN     NaN     NaN  ...     NaN     NaN     NaN   \n",
              "\n",
              "index                1342.0  1347.0  1348.0  1350.0  1361.0  1362.0  1372.0  \n",
              "date_time                                                                    \n",
              "2019-11-30 20:00:00     NaN     NaN     NaN     NaN     NaN     NaN     NaN  \n",
              "2019-11-30 20:30:00     NaN     NaN     5.0     NaN     NaN     NaN     NaN  \n",
              "2019-11-30 21:00:00     NaN     NaN     5.0     NaN     NaN     5.0     NaN  \n",
              "2019-11-30 21:30:00     NaN     NaN     NaN     NaN     NaN     NaN     NaN  \n",
              "2019-11-30 22:00:00     NaN     NaN     NaN     NaN     NaN    13.0     NaN  \n",
              "\n",
              "[5 rows x 700 columns]"
            ]
          },
          "execution_count": 45,
          "metadata": {},
          "output_type": "execute_result"
        }
      ],
      "source": [
        "df_for_training.tail()"
      ]
    },
    {
      "cell_type": "code",
      "execution_count": null,
      "metadata": {
        "id": "6Lycy1J-rAy1"
      },
      "outputs": [],
      "source": [
        "#% adding time and dates tages to the data\n",
        "df_for_training['dates_weekday']=[d.weekday() for d in df_for_training.index]\n",
        "df_for_training['time']=[(d.time().hour*60+d.time().minute)/30 for d in df_for_training.index]"
      ]
    },
    {
      "cell_type": "markdown",
      "metadata": {
        "id": "mEXsddYhk8Oo"
      },
      "source": []
    },
    {
      "cell_type": "code",
      "execution_count": null,
      "metadata": {
        "id": "pMfAv6YYssX9"
      },
      "outputs": [],
      "source": [
        "df_for_training.shape\n",
        "df_for_training=df_for_training.fillna(0)\n",
        "df_for_training = df_for_training.astype(float)\n",
        "df_for_training=df_for_training.to_numpy()\n",
        "X_train, y_train=df_for_training[0:4303,:],df_for_training[1:4304,:-2]\n",
        "X_test, y_test=df_for_training[4304:-1,:],df_for_training[4305:,:-2]"
      ]
    },
    {
      "cell_type": "code",
      "execution_count": null,
      "metadata": {
        "colab": {
          "base_uri": "https://localhost:8080/"
        },
        "id": "KGnvu_gL33P8",
        "outputId": "6bb42146-32ca-4c28-b82e-a9b2c2d06c9a"
      },
      "outputs": [
        {
          "data": {
            "text/plain": [
              "RandomForestRegressor(random_state=0)"
            ]
          },
          "execution_count": 11,
          "metadata": {},
          "output_type": "execute_result"
        }
      ],
      "source": [
        "\n",
        "# Fitting Random Forest Regression to the dataset\n",
        "# import the regressor\n",
        "from sklearn.ensemble import RandomForestRegressor\n",
        "  \n",
        " # create regressor object\n",
        "regressor = RandomForestRegressor(n_estimators = 100, random_state = 0)\n",
        "  \n",
        "# fit the regressor with x and y data\n",
        "regressor.fit(X_train,y_train )  "
      ]
    },
    {
      "cell_type": "markdown",
      "metadata": {
        "id": "t047KXL6oI2M"
      },
      "source": []
    },
    {
      "cell_type": "markdown",
      "metadata": {
        "id": "hwKFVs1toIez"
      },
      "source": []
    },
    {
      "cell_type": "code",
      "execution_count": null,
      "metadata": {
        "id": "u6f7ZzX47DZH"
      },
      "outputs": [],
      "source": [
        "# the function to measure the noises\n",
        "def measure_the_error(actual,pred):\n",
        "    rmse_list=[]\n",
        "    mae_list=[]\n",
        "    num=int(len(pred)/35)\n",
        "    root_mean_square=np.sqrt(np.square(np.subtract(actual,pred)).mean(axis=1))\n",
        "    mean_absolute_error=abs(np.subtract(actual,pred)).mean(axis=1)\n",
        "    for i in range(num):\n",
        "        cur=35*i\n",
        "        rmse_list.append(root_mean_square[cur:cur+35].mean())\n",
        "        mae_list.append(mean_absolute_error[cur:cur+35].mean())\n",
        "    # mean_absolute_percentage=np.mean(np.abs((actual - pred)/actual))*100\n",
        "    # rmse = math.sqrt(mean_square)\n",
        "    return rmse_list,mae_list\n"
      ]
    },
    {
      "cell_type": "markdown",
      "metadata": {
        "id": "3UhMwggVQC2E"
      },
      "source": [
        "## Accuracy"
      ]
    },
    {
      "cell_type": "code",
      "execution_count": null,
      "metadata": {
        "id": "RKBkUhSMD9M5"
      },
      "outputs": [],
      "source": [
        "#accuracy\n",
        "#accuracy\n",
        "Y_pred = regressor.predict(X_test)\n",
        "rmse,mae = measure_the_error(Y_pred,y_test)\n"
      ]
    },
    {
      "cell_type": "code",
      "execution_count": null,
      "metadata": {
        "colab": {
          "base_uri": "https://localhost:8080/"
        },
        "id": "Vq8kMi_7sp7G",
        "outputId": "0e24c746-c53c-41f0-c323-04382e406683"
      },
      "outputs": [
        {
          "data": {
            "text/plain": [
              "[9.8527906122449,\n",
              " 8.648844489795918,\n",
              " 5.540931020408164,\n",
              " 8.210532653061223,\n",
              " 8.353447346938774,\n",
              " 8.561711020408163,\n",
              " 8.180697142857143,\n",
              " 9.084568571428571,\n",
              " 6.858670612244897,\n",
              " 5.339906122448979,\n",
              " 9.128955918367344,\n",
              " 8.832791836734694,\n",
              " 8.280263265306122,\n",
              " 9.397357959183672,\n",
              " 8.82664530612245,\n",
              " 6.313903673469388,\n",
              " 4.656866122448979,\n",
              " 8.04002530612245,\n",
              " 9.220139591836734,\n",
              " 8.056403265306121,\n",
              " 8.590035510204082,\n",
              " 9.007355510204082,\n",
              " 6.285131836734695,\n",
              " 4.571058775510204,\n",
              " 8.739624081632654,\n",
              " 8.795509387755102,\n",
              " 8.92447836734694,\n",
              " 9.908310612244897,\n",
              " 12.760780408163267,\n",
              " 9.407488571428573]"
            ]
          },
          "execution_count": 18,
          "metadata": {},
          "output_type": "execute_result"
        }
      ],
      "source": [
        "mae"
      ]
    },
    {
      "cell_type": "markdown",
      "metadata": {
        "id": "mWjzzfApQIZY"
      },
      "source": [
        "## Robustness"
      ]
    },
    {
      "cell_type": "code",
      "execution_count": null,
      "metadata": {
        "id": "p1yEyCkFQ2No"
      },
      "outputs": [],
      "source": [
        "import random\n",
        "def AddNoise(real_demand,X_train,missing,noise_level):\n",
        "    res=[]\n",
        "    for i in range(len(real_demand)):\n",
        "\n",
        "        noise_demand=np.array(list(real_demand[i,:-2])).reshape(-1,1)\n",
        "        tag=real_demand[i,-2:]\n",
        "        \n",
        "\n",
        "        replace_Loc=np.where((X_train[:,-2]==tag[0])&(X_train[:,-1]==tag[1]))[0]\n",
        "        replace_Loc=np.array([i for i in replace_Loc if i>30])\n",
        "        #add missing \n",
        "        Loc=random.sample(range(0,700),int(700*missing)) # random locations to add noise\n",
        "        replace=X_train[replace_Loc][:,Loc].mean(axis=0).reshape(-1,1)\n",
        "\n",
        "        # noise_demand[Loc]=replace.reshape(-1,1)\n",
        "        noise_demand[Loc]*=np.array(0)\n",
        "        #add noise \n",
        "        val=np.array(random.choices(noise_level,k=700)).reshape(-1,1)\n",
        "        noise_demand*=val\n",
        "\n",
        "        res.append(noise_demand) \n",
        "    return np.array(res)\n",
        "\n"
      ]
    },
    {
      "cell_type": "markdown",
      "metadata": {
        "id": "RdZaEyVZs_1M"
      },
      "source": []
    },
    {
      "cell_type": "code",
      "execution_count": null,
      "metadata": {
        "id": "wt8f_wEjSzK7"
      },
      "outputs": [],
      "source": [
        "def calculate(X_test,X_train,missing=0.6,magnitude=0.6):\n",
        "    rmse_res=[]\n",
        "    if missing!=0.6:\n",
        "        for i in range(1,6):\n",
        "            X_test_noise=AddNoise(X_test,X_train,missing,[1-i*0.1,1+i*0.1])\n",
        "            X_test_noise=np.concatenate((X_test_noise.reshape(1050,-1),X_test[:,-2:]),axis=1)\n",
        "            Y_pred_noise = regressor.predict(X_test_noise)\n",
        "            rmse,mae = measure_the_error(Y_pred_noise,y_test)\n",
        "            rmse_res.append(rmse)\n",
        "    if magnitude!=0.6:\n",
        "        for i in range(1,6):\n",
        "            X_test_noise=AddNoise(X_test,X_train,i*0.1,[magnitude+1,1-magnitude])\n",
        "            X_test_noise=np.concatenate((X_test_noise.reshape(1050,-1),X_test[:,-2:]),axis=1)\n",
        "            Y_pred_noise = regressor.predict(X_test_noise)\n",
        "            rmse,mae = measure_the_error(Y_pred_noise,y_test)\n",
        "            rmse_res.append(rmse)\n",
        "    return rmse_res\n",
        "\n"
      ]
    },
    {
      "cell_type": "code",
      "execution_count": null,
      "metadata": {
        "id": "8EUWxuRbV-jv"
      },
      "outputs": [],
      "source": [
        "\n",
        "rmse_res=calculate(X_test,X_train,missing=0.6,magnitude=0.3)"
      ]
    },
    {
      "cell_type": "code",
      "execution_count": null,
      "metadata": {
        "colab": {
          "base_uri": "https://localhost:8080/"
        },
        "id": "cWhWVN3Kmo2o",
        "outputId": "0a627bf9-f65e-4c45-c343-a3af52235768"
      },
      "outputs": [
        {
          "data": {
            "text/plain": [
              "[[67.57537773680613,\n",
              "  52.74716928095968,\n",
              "  38.62253686089491,\n",
              "  80.57148637596788,\n",
              "  78.95838169974161,\n",
              "  79.74330760215285,\n",
              "  88.95582043584724,\n",
              "  88.79669001307181,\n",
              "  50.34561158179414,\n",
              "  32.26935262880181,\n",
              "  83.062299062647,\n",
              "  90.25211917559481,\n",
              "  79.7485816018211,\n",
              "  91.55296967204539,\n",
              "  85.75361838769481,\n",
              "  50.710290935457635,\n",
              "  36.174280993421355,\n",
              "  74.84444134134895,\n",
              "  77.44390382330768,\n",
              "  93.71440354324596,\n",
              "  94.68111237987394,\n",
              "  96.80205421689216,\n",
              "  48.42795390224675,\n",
              "  43.834892815794234,\n",
              "  82.37941609482218,\n",
              "  84.17738153140388,\n",
              "  84.8966784692641,\n",
              "  91.77190451622651,\n",
              "  105.98656843887318,\n",
              "  55.98796503174991],\n",
              " [85.95446454819286,\n",
              "  65.09254980416212,\n",
              "  42.30630145045128,\n",
              "  98.57865541716156,\n",
              "  102.40252036671829,\n",
              "  95.0804795157343,\n",
              "  119.07081897661189,\n",
              "  105.21414992706411,\n",
              "  64.16826588375531,\n",
              "  36.22891520111281,\n",
              "  92.632386092476,\n",
              "  121.1722579205964,\n",
              "  96.99359662497827,\n",
              "  98.65293686929071,\n",
              "  107.37707320083317,\n",
              "  50.126211582762146,\n",
              "  44.949879586068434,\n",
              "  102.58190177587997,\n",
              "  119.5346351246398,\n",
              "  91.23474156243275,\n",
              "  100.14012903442368,\n",
              "  95.50832277109102,\n",
              "  68.33266910728729,\n",
              "  41.71059645895681,\n",
              "  111.292165853066,\n",
              "  105.52100797104083,\n",
              "  110.0965728528489,\n",
              "  124.78715639330002,\n",
              "  129.373083531168,\n",
              "  59.33219684075002],\n",
              " [96.69602489647748,\n",
              "  64.01383109315336,\n",
              "  49.2814315319443,\n",
              "  121.65056379803438,\n",
              "  120.94118103602689,\n",
              "  128.86271529073147,\n",
              "  142.64979370296297,\n",
              "  127.63712785356134,\n",
              "  67.57860406024194,\n",
              "  44.255530336821984,\n",
              "  124.23140522517497,\n",
              "  106.80963855086335,\n",
              "  129.12130490743104,\n",
              "  150.45070950298236,\n",
              "  130.01541422060868,\n",
              "  68.19023861170618,\n",
              "  66.6701928288439,\n",
              "  121.33013048347563,\n",
              "  122.03457796826008,\n",
              "  122.19953659691231,\n",
              "  128.63042631071227,\n",
              "  118.30415932148553,\n",
              "  76.69705744504009,\n",
              "  57.76101211569346,\n",
              "  133.31571163462993,\n",
              "  124.08738182055552,\n",
              "  112.20831631534969,\n",
              "  141.62808867446907,\n",
              "  159.77072751924965,\n",
              "  85.71017638026666],\n",
              " [113.1026072527274,\n",
              "  74.45251111287928,\n",
              "  51.476832087477185,\n",
              "  172.190197283717,\n",
              "  153.06321668587032,\n",
              "  168.6900757558369,\n",
              "  162.9139790382156,\n",
              "  165.73604213193602,\n",
              "  78.03836700585879,\n",
              "  64.94728787072039,\n",
              "  142.00498623455724,\n",
              "  179.76404617966273,\n",
              "  144.58967833067078,\n",
              "  200.8890525417843,\n",
              "  168.43685334952218,\n",
              "  64.77698057657383,\n",
              "  60.29062487857008,\n",
              "  125.72525318267576,\n",
              "  169.35571633737612,\n",
              "  172.9404892160502,\n",
              "  173.01035464993979,\n",
              "  159.20204189961018,\n",
              "  78.71661468862686,\n",
              "  58.27742440407018,\n",
              "  163.72403871251012,\n",
              "  134.73587212172208,\n",
              "  168.44575098794635,\n",
              "  163.27015567399357,\n",
              "  211.315575224384,\n",
              "  110.76473770120268],\n",
              " [135.99490177394784,\n",
              "  95.2384608207899,\n",
              "  68.3847985243261,\n",
              "  170.2010104415329,\n",
              "  182.5855242610628,\n",
              "  188.40577973207348,\n",
              "  198.27522801813723,\n",
              "  186.80952801335505,\n",
              "  85.50820605481155,\n",
              "  72.57837087357935,\n",
              "  169.58616031200245,\n",
              "  243.49627491786336,\n",
              "  190.6572231742337,\n",
              "  196.07621672615008,\n",
              "  196.34822534929313,\n",
              "  89.33502012528295,\n",
              "  66.41173513907457,\n",
              "  192.6370337739693,\n",
              "  185.95301469242068,\n",
              "  209.59540992308362,\n",
              "  186.13196336172334,\n",
              "  177.0319839990447,\n",
              "  87.0488154403897,\n",
              "  75.39017923333999,\n",
              "  189.07822223002424,\n",
              "  176.5307417899187,\n",
              "  194.3729503258967,\n",
              "  217.5956586764028,\n",
              "  216.29566907323738,\n",
              "  114.30842165395023]]"
            ]
          },
          "execution_count": 83,
          "metadata": {},
          "output_type": "execute_result"
        }
      ],
      "source": [
        "rmse_res"
      ]
    },
    {
      "attachments": {},
      "cell_type": "markdown",
      "metadata": {
        "id": "47F-i5I2tIif"
      },
      "source": []
    },
    {
      "cell_type": "markdown",
      "metadata": {
        "id": "C4lkLglxRbTT"
      },
      "source": []
    }
  ],
  "metadata": {
    "colab": {
      "provenance": []
    },
    "kernelspec": {
      "display_name": "Python 3",
      "name": "python3"
    },
    "language_info": {
      "name": "python"
    }
  },
  "nbformat": 4,
  "nbformat_minor": 0
}
