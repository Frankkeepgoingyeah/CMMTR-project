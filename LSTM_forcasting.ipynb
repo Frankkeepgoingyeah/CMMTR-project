{
  "cells": [
    {
      "cell_type": "code",
      "execution_count": null,
      "metadata": {
        "id": "EbrFD1vMR_qS"
      },
      "outputs": [],
      "source": [
        "import tensorflow as tf\n",
        "import os\n",
        "import pandas as pd\n",
        "import numpy as np"
      ]
    },
    {
      "cell_type": "code",
      "execution_count": null,
      "metadata": {
        "colab": {
          "base_uri": "https://localhost:8080/"
        },
        "id": "RnZ48e7fc8O1",
        "outputId": "6c5cbef3-3a3c-4adc-ac3f-2548e24e4f6d"
      },
      "outputs": [
        {
          "name": "stdout",
          "output_type": "stream",
          "text": [
            "Mounted at /content/drive\n"
          ]
        }
      ],
      "source": [
        "from google.colab import drive\n",
        "drive.mount('/content/drive')"
      ]
    },
    {
      "cell_type": "code",
      "execution_count": null,
      "metadata": {
        "colab": {
          "base_uri": "https://localhost:8080/"
        },
        "id": "izaOig6QbpVn",
        "outputId": "4a06fbfc-2974-47be-b177-ab27537340ab"
      },
      "outputs": [
        {
          "name": "stdout",
          "output_type": "stream",
          "text": [
            "         Unnamed: 0  Unnamed: 0.1   index  CalendarDateKey interval_start  \\\n",
            "1994387     1994387       1994387  3042.0         20190807       09:00:00   \n",
            "1994388     1994388       1994388  3042.0         20190825       15:00:00   \n",
            "1994389     1994389       1994389  3042.0         20191025       08:00:00   \n",
            "1994390     1994390       1994390  3042.0         20191115       08:00:00   \n",
            "1994391     1994391       1994391  3042.0         20191129       08:00:00   \n",
            "\n",
            "         n_validations         date_time  \n",
            "1994387              8  2019080709:00:00  \n",
            "1994388             10  2019082515:00:00  \n",
            "1994389              5  2019102508:00:00  \n",
            "1994390              5  2019111508:00:00  \n",
            "1994391              5  2019112908:00:00  \n"
          ]
        }
      ],
      "source": [
        "#Read the csv file\n",
        "data = pd.read_csv('/content/drive/MyDrive/Colab Notebooks/ Data_pol2/2019_1000_merge_data.csv')\n",
        "\n",
        "data['date_time'] = data['CalendarDateKey'].astype(str) + data['interval_start']\n",
        "print(data.tail()) #7 columns, including the Date. \n"
      ]
    },
    {
      "cell_type": "code",
      "execution_count": null,
      "metadata": {
        "id": "KHgU2KkykMry"
      },
      "outputs": [],
      "source": [
        "import datetime\n",
        "#process the matrix\n",
        "df_for_training=data.pivot(index='date_time',\n",
        "                  columns='index',\n",
        "                  values='n_validations'\n",
        "                  )\n",
        "df_for_training.index = pd.to_datetime(df_for_training.index, format='%Y%m%d%H:%M:%S')\n"
      ]
    },
    {
      "cell_type": "code",
      "execution_count": null,
      "metadata": {
        "id": "M7ZOPEExmZeU"
      },
      "outputs": [],
      "source": [
        "df_for_training.index = pd.to_datetime(df_for_training.index, format='%Y%m%d%H:%M:%S')"
      ]
    },
    {
      "cell_type": "code",
      "execution_count": null,
      "metadata": {
        "colab": {
          "base_uri": "https://localhost:8080/"
        },
        "id": "bgrUgiYWkkCi",
        "outputId": "f47c6e42-a226-4d1a-9d7e-75b26948b544"
      },
      "outputs": [
        {
          "name": "stdout",
          "output_type": "stream",
          "text": [
            "there are 4094243 unrecorded Nans\n",
            "there are 0 unrecorded Nans\n"
          ]
        }
      ],
      "source": [
        "print('there are %d unrecorded Nans' % df_for_training.isna().sum().sum())\n",
        "df_for_training=df_for_training.fillna(0)\n",
        "df_for_training = df_for_training.astype(float)\n",
        "df_for_training.shape\n",
        "print('there are %d unrecorded Nans' % df_for_training.isna().sum().sum())"
      ]
    },
    {
      "cell_type": "code",
      "execution_count": null,
      "metadata": {
        "colab": {
          "base_uri": "https://localhost:8080/",
          "height": 504
        },
        "id": "RJDyL-9HjVF3",
        "outputId": "cbc2f4cc-1802-4150-f5bf-954bb092f83f"
      },
      "outputs": [
        {
          "data": {
            "text/html": [
              "\n",
              "  <div id=\"df-7f165486-7b16-41cf-a39b-63e47d1d2e9c\">\n",
              "    <div class=\"colab-df-container\">\n",
              "      <div>\n",
              "<style scoped>\n",
              "    .dataframe tbody tr th:only-of-type {\n",
              "        vertical-align: middle;\n",
              "    }\n",
              "\n",
              "    .dataframe tbody tr th {\n",
              "        vertical-align: top;\n",
              "    }\n",
              "\n",
              "    .dataframe thead th {\n",
              "        text-align: right;\n",
              "    }\n",
              "</style>\n",
              "<table border=\"1\" class=\"dataframe\">\n",
              "  <thead>\n",
              "    <tr style=\"text-align: right;\">\n",
              "      <th>index</th>\n",
              "      <th>0.0</th>\n",
              "      <th>1.0</th>\n",
              "      <th>2.0</th>\n",
              "      <th>3.0</th>\n",
              "      <th>4.0</th>\n",
              "      <th>10.0</th>\n",
              "      <th>12.0</th>\n",
              "      <th>13.0</th>\n",
              "      <th>19.0</th>\n",
              "      <th>20.0</th>\n",
              "      <th>...</th>\n",
              "      <th>1329.0</th>\n",
              "      <th>1334.0</th>\n",
              "      <th>1335.0</th>\n",
              "      <th>1342.0</th>\n",
              "      <th>1347.0</th>\n",
              "      <th>1348.0</th>\n",
              "      <th>1350.0</th>\n",
              "      <th>1361.0</th>\n",
              "      <th>1362.0</th>\n",
              "      <th>1372.0</th>\n",
              "    </tr>\n",
              "    <tr>\n",
              "      <th>date_time</th>\n",
              "      <th></th>\n",
              "      <th></th>\n",
              "      <th></th>\n",
              "      <th></th>\n",
              "      <th></th>\n",
              "      <th></th>\n",
              "      <th></th>\n",
              "      <th></th>\n",
              "      <th></th>\n",
              "      <th></th>\n",
              "      <th></th>\n",
              "      <th></th>\n",
              "      <th></th>\n",
              "      <th></th>\n",
              "      <th></th>\n",
              "      <th></th>\n",
              "      <th></th>\n",
              "      <th></th>\n",
              "      <th></th>\n",
              "      <th></th>\n",
              "      <th></th>\n",
              "    </tr>\n",
              "  </thead>\n",
              "  <tbody>\n",
              "    <tr>\n",
              "      <th>2019-07-01 05:00:00</th>\n",
              "      <td>0.0</td>\n",
              "      <td>0.0</td>\n",
              "      <td>0.0</td>\n",
              "      <td>0.0</td>\n",
              "      <td>0.0</td>\n",
              "      <td>0.0</td>\n",
              "      <td>0.0</td>\n",
              "      <td>0.0</td>\n",
              "      <td>0.0</td>\n",
              "      <td>0.0</td>\n",
              "      <td>...</td>\n",
              "      <td>0.0</td>\n",
              "      <td>0.0</td>\n",
              "      <td>0.0</td>\n",
              "      <td>0.0</td>\n",
              "      <td>0.0</td>\n",
              "      <td>0.0</td>\n",
              "      <td>0.0</td>\n",
              "      <td>0.0</td>\n",
              "      <td>0.0</td>\n",
              "      <td>0.0</td>\n",
              "    </tr>\n",
              "    <tr>\n",
              "      <th>2019-07-01 05:30:00</th>\n",
              "      <td>0.0</td>\n",
              "      <td>0.0</td>\n",
              "      <td>0.0</td>\n",
              "      <td>0.0</td>\n",
              "      <td>0.0</td>\n",
              "      <td>0.0</td>\n",
              "      <td>0.0</td>\n",
              "      <td>0.0</td>\n",
              "      <td>0.0</td>\n",
              "      <td>0.0</td>\n",
              "      <td>...</td>\n",
              "      <td>0.0</td>\n",
              "      <td>0.0</td>\n",
              "      <td>0.0</td>\n",
              "      <td>0.0</td>\n",
              "      <td>0.0</td>\n",
              "      <td>0.0</td>\n",
              "      <td>6.0</td>\n",
              "      <td>0.0</td>\n",
              "      <td>0.0</td>\n",
              "      <td>0.0</td>\n",
              "    </tr>\n",
              "    <tr>\n",
              "      <th>2019-07-01 06:00:00</th>\n",
              "      <td>0.0</td>\n",
              "      <td>0.0</td>\n",
              "      <td>0.0</td>\n",
              "      <td>0.0</td>\n",
              "      <td>0.0</td>\n",
              "      <td>0.0</td>\n",
              "      <td>0.0</td>\n",
              "      <td>0.0</td>\n",
              "      <td>0.0</td>\n",
              "      <td>0.0</td>\n",
              "      <td>...</td>\n",
              "      <td>0.0</td>\n",
              "      <td>0.0</td>\n",
              "      <td>0.0</td>\n",
              "      <td>0.0</td>\n",
              "      <td>0.0</td>\n",
              "      <td>0.0</td>\n",
              "      <td>0.0</td>\n",
              "      <td>15.0</td>\n",
              "      <td>13.0</td>\n",
              "      <td>6.0</td>\n",
              "    </tr>\n",
              "    <tr>\n",
              "      <th>2019-07-01 06:30:00</th>\n",
              "      <td>0.0</td>\n",
              "      <td>0.0</td>\n",
              "      <td>0.0</td>\n",
              "      <td>0.0</td>\n",
              "      <td>0.0</td>\n",
              "      <td>0.0</td>\n",
              "      <td>0.0</td>\n",
              "      <td>0.0</td>\n",
              "      <td>0.0</td>\n",
              "      <td>0.0</td>\n",
              "      <td>...</td>\n",
              "      <td>0.0</td>\n",
              "      <td>0.0</td>\n",
              "      <td>0.0</td>\n",
              "      <td>0.0</td>\n",
              "      <td>0.0</td>\n",
              "      <td>0.0</td>\n",
              "      <td>0.0</td>\n",
              "      <td>5.0</td>\n",
              "      <td>6.0</td>\n",
              "      <td>0.0</td>\n",
              "    </tr>\n",
              "    <tr>\n",
              "      <th>2019-07-01 07:00:00</th>\n",
              "      <td>0.0</td>\n",
              "      <td>0.0</td>\n",
              "      <td>0.0</td>\n",
              "      <td>0.0</td>\n",
              "      <td>0.0</td>\n",
              "      <td>0.0</td>\n",
              "      <td>0.0</td>\n",
              "      <td>0.0</td>\n",
              "      <td>0.0</td>\n",
              "      <td>0.0</td>\n",
              "      <td>...</td>\n",
              "      <td>0.0</td>\n",
              "      <td>0.0</td>\n",
              "      <td>0.0</td>\n",
              "      <td>0.0</td>\n",
              "      <td>0.0</td>\n",
              "      <td>13.0</td>\n",
              "      <td>8.0</td>\n",
              "      <td>0.0</td>\n",
              "      <td>0.0</td>\n",
              "      <td>0.0</td>\n",
              "    </tr>\n",
              "  </tbody>\n",
              "</table>\n",
              "<p>5 rows × 700 columns</p>\n",
              "</div>\n",
              "      <button class=\"colab-df-convert\" onclick=\"convertToInteractive('df-7f165486-7b16-41cf-a39b-63e47d1d2e9c')\"\n",
              "              title=\"Convert this dataframe to an interactive table.\"\n",
              "              style=\"display:none;\">\n",
              "        \n",
              "  <svg xmlns=\"http://www.w3.org/2000/svg\" height=\"24px\"viewBox=\"0 0 24 24\"\n",
              "       width=\"24px\">\n",
              "    <path d=\"M0 0h24v24H0V0z\" fill=\"none\"/>\n",
              "    <path d=\"M18.56 5.44l.94 2.06.94-2.06 2.06-.94-2.06-.94-.94-2.06-.94 2.06-2.06.94zm-11 1L8.5 8.5l.94-2.06 2.06-.94-2.06-.94L8.5 2.5l-.94 2.06-2.06.94zm10 10l.94 2.06.94-2.06 2.06-.94-2.06-.94-.94-2.06-.94 2.06-2.06.94z\"/><path d=\"M17.41 7.96l-1.37-1.37c-.4-.4-.92-.59-1.43-.59-.52 0-1.04.2-1.43.59L10.3 9.45l-7.72 7.72c-.78.78-.78 2.05 0 2.83L4 21.41c.39.39.9.59 1.41.59.51 0 1.02-.2 1.41-.59l7.78-7.78 2.81-2.81c.8-.78.8-2.07 0-2.86zM5.41 20L4 18.59l7.72-7.72 1.47 1.35L5.41 20z\"/>\n",
              "  </svg>\n",
              "      </button>\n",
              "      \n",
              "  <style>\n",
              "    .colab-df-container {\n",
              "      display:flex;\n",
              "      flex-wrap:wrap;\n",
              "      gap: 12px;\n",
              "    }\n",
              "\n",
              "    .colab-df-convert {\n",
              "      background-color: #E8F0FE;\n",
              "      border: none;\n",
              "      border-radius: 50%;\n",
              "      cursor: pointer;\n",
              "      display: none;\n",
              "      fill: #1967D2;\n",
              "      height: 32px;\n",
              "      padding: 0 0 0 0;\n",
              "      width: 32px;\n",
              "    }\n",
              "\n",
              "    .colab-df-convert:hover {\n",
              "      background-color: #E2EBFA;\n",
              "      box-shadow: 0px 1px 2px rgba(60, 64, 67, 0.3), 0px 1px 3px 1px rgba(60, 64, 67, 0.15);\n",
              "      fill: #174EA6;\n",
              "    }\n",
              "\n",
              "    [theme=dark] .colab-df-convert {\n",
              "      background-color: #3B4455;\n",
              "      fill: #D2E3FC;\n",
              "    }\n",
              "\n",
              "    [theme=dark] .colab-df-convert:hover {\n",
              "      background-color: #434B5C;\n",
              "      box-shadow: 0px 1px 3px 1px rgba(0, 0, 0, 0.15);\n",
              "      filter: drop-shadow(0px 1px 2px rgba(0, 0, 0, 0.3));\n",
              "      fill: #FFFFFF;\n",
              "    }\n",
              "  </style>\n",
              "\n",
              "      <script>\n",
              "        const buttonEl =\n",
              "          document.querySelector('#df-7f165486-7b16-41cf-a39b-63e47d1d2e9c button.colab-df-convert');\n",
              "        buttonEl.style.display =\n",
              "          google.colab.kernel.accessAllowed ? 'block' : 'none';\n",
              "\n",
              "        async function convertToInteractive(key) {\n",
              "          const element = document.querySelector('#df-7f165486-7b16-41cf-a39b-63e47d1d2e9c');\n",
              "          const dataTable =\n",
              "            await google.colab.kernel.invokeFunction('convertToInteractive',\n",
              "                                                     [key], {});\n",
              "          if (!dataTable) return;\n",
              "\n",
              "          const docLinkHtml = 'Like what you see? Visit the ' +\n",
              "            '<a target=\"_blank\" href=https://colab.research.google.com/notebooks/data_table.ipynb>data table notebook</a>'\n",
              "            + ' to learn more about interactive tables.';\n",
              "          element.innerHTML = '';\n",
              "          dataTable['output_type'] = 'display_data';\n",
              "          await google.colab.output.renderOutput(dataTable, element);\n",
              "          const docLink = document.createElement('div');\n",
              "          docLink.innerHTML = docLinkHtml;\n",
              "          element.appendChild(docLink);\n",
              "        }\n",
              "      </script>\n",
              "    </div>\n",
              "  </div>\n",
              "  "
            ],
            "text/plain": [
              "index                0.0     1.0     2.0     3.0     4.0     10.0    12.0    \\\n",
              "date_time                                                                     \n",
              "2019-07-01 05:00:00     0.0     0.0     0.0     0.0     0.0     0.0     0.0   \n",
              "2019-07-01 05:30:00     0.0     0.0     0.0     0.0     0.0     0.0     0.0   \n",
              "2019-07-01 06:00:00     0.0     0.0     0.0     0.0     0.0     0.0     0.0   \n",
              "2019-07-01 06:30:00     0.0     0.0     0.0     0.0     0.0     0.0     0.0   \n",
              "2019-07-01 07:00:00     0.0     0.0     0.0     0.0     0.0     0.0     0.0   \n",
              "\n",
              "index                13.0    19.0    20.0    ...  1329.0  1334.0  1335.0  \\\n",
              "date_time                                    ...                           \n",
              "2019-07-01 05:00:00     0.0     0.0     0.0  ...     0.0     0.0     0.0   \n",
              "2019-07-01 05:30:00     0.0     0.0     0.0  ...     0.0     0.0     0.0   \n",
              "2019-07-01 06:00:00     0.0     0.0     0.0  ...     0.0     0.0     0.0   \n",
              "2019-07-01 06:30:00     0.0     0.0     0.0  ...     0.0     0.0     0.0   \n",
              "2019-07-01 07:00:00     0.0     0.0     0.0  ...     0.0     0.0     0.0   \n",
              "\n",
              "index                1342.0  1347.0  1348.0  1350.0  1361.0  1362.0  1372.0  \n",
              "date_time                                                                    \n",
              "2019-07-01 05:00:00     0.0     0.0     0.0     0.0     0.0     0.0     0.0  \n",
              "2019-07-01 05:30:00     0.0     0.0     0.0     6.0     0.0     0.0     0.0  \n",
              "2019-07-01 06:00:00     0.0     0.0     0.0     0.0    15.0    13.0     6.0  \n",
              "2019-07-01 06:30:00     0.0     0.0     0.0     0.0     5.0     6.0     0.0  \n",
              "2019-07-01 07:00:00     0.0     0.0    13.0     8.0     0.0     0.0     0.0  \n",
              "\n",
              "[5 rows x 700 columns]"
            ]
          },
          "execution_count": 9,
          "metadata": {},
          "output_type": "execute_result"
        }
      ],
      "source": [
        "df_for_training.head()  # row-time and column-grids"
      ]
    },
    {
      "cell_type": "code",
      "execution_count": null,
      "metadata": {
        "id": "bY2yEu2QTBXP"
      },
      "outputs": [],
      "source": [
        "# [[[1], [2], [3], [4], [5]]] [6]\n",
        "# [[[2], [3], [4], [5], [6]]] [7]\n",
        "# [[[3], [4], [5], [6], [7]]] [8]\n",
        "\n",
        "def df_to_X_y(df_training, window_size=5,n_forcast = 1):\n",
        "\n",
        "  X = []\n",
        "  y = []\n",
        "  for i in range(window_size, len(df_training) - n_forcast +1):\n",
        "      X.append(df_training[i - window_size:i, 0:df_for_training.shape[1]])\n",
        "      y.append(df_training[i + n_forcast - 1:i + n_forcast, :])\n",
        "  return np.array(X), np.array(y)"
      ]
    },
    {
      "cell_type": "code",
      "execution_count": null,
      "metadata": {
        "colab": {
          "base_uri": "https://localhost:8080/"
        },
        "id": "qhGUH0NoV9Zq",
        "outputId": "86604357-8bf0-4662-e992-447d50b75e52"
      },
      "outputs": [
        {
          "data": {
            "text/plain": [
              "((5337, 18, 1137), (5337, 1, 1137))"
            ]
          },
          "execution_count": 11,
          "metadata": {},
          "output_type": "execute_result"
        }
      ],
      "source": [
        "WINDOW_SIZE = 18\n",
        "X1, y1 = df_to_X_y(df_for_training.to_numpy(), WINDOW_SIZE,n_forcast=1)\n",
        "X1.shape, y1.shape"
      ]
    },
    {
      "cell_type": "code",
      "execution_count": null,
      "metadata": {
        "id": "Il-Um17xF86V"
      },
      "outputs": [],
      "source": [
        "# measure the mse\n",
        "def measure_the_error(actual,pred,period=0):\n",
        "\n",
        "    mean_square=np.square(np.subtract(actual,pred)).mean()\n",
        "    # mean_absolute_percentage=np.mean(np.abs((actual - pred)/actual))*100\n",
        "    return mean_square"
      ]
    },
    {
      "cell_type": "markdown",
      "metadata": {
        "id": "NWV3c7hnz9-d"
      },
      "source": [
        "## stateful lstm"
      ]
    },
    {
      "cell_type": "code",
      "execution_count": null,
      "metadata": {
        "colab": {
          "base_uri": "https://localhost:8080/"
        },
        "id": "Dx7fRdqMFrND",
        "outputId": "a4594c7d-6dab-4082-b8e7-5498e3f4269d"
      },
      "outputs": [
        {
          "data": {
            "text/plain": [
              "((4287, 18, 1137), (4287, 1, 1137), (1050, 18, 1137), (1050, 1, 1137))"
            ]
          },
          "execution_count": 13,
          "metadata": {},
          "output_type": "execute_result"
        }
      ],
      "source": [
        "# 70 training 15 validation 15 testing\n",
        "X_train1, y_train1 = X1[:4287], y1[:4287]\n",
        "# X_val1, y_val1 = X1[4270:4800], y1[4270:4800]\n",
        "X_test1, y_test1 = X1[4287:], y1[4287:]\n",
        "X_train1.shape, y_train1.shape, X_test1.shape, y_test1.shape"
      ]
    },
    {
      "cell_type": "code",
      "execution_count": null,
      "metadata": {
        "colab": {
          "base_uri": "https://localhost:8080/"
        },
        "id": "RCss0uLeF_Hh",
        "outputId": "63314887-2ee1-49bc-eb56-22dd0f0a180d"
      },
      "outputs": [
        {
          "name": "stdout",
          "output_type": "stream",
          "text": [
            "Model: \"sequential_3\"\n",
            "_________________________________________________________________\n",
            " Layer (type)                Output Shape              Param #   \n",
            "=================================================================\n",
            " lstm_3 (LSTM)               (1, 80)                   389760    \n",
            "                                                                 \n",
            " dropout_3 (Dropout)         (1, 80)                   0         \n",
            "                                                                 \n",
            " dense_3 (Dense)             (1, 1137)                 92097     \n",
            "                                                                 \n",
            "=================================================================\n",
            "Total params: 481,857\n",
            "Trainable params: 481,857\n",
            "Non-trainable params: 0\n",
            "_________________________________________________________________\n"
          ]
        }
      ],
      "source": [
        "# model 2 stateful model\n",
        "batch_size = 1 \n",
        "\n",
        "model2 = Sequential()\n",
        "model2.add(InputLayer(batch_input_shape = (batch_size,18,y_train1.shape[2])))\n",
        "model2.add(LSTM(units=80,activation='relu',return_sequences=False,stateful = True))\n",
        "model2.add(Dropout(0.2))\n",
        "model2.add(Dense(1137))\n",
        "\n",
        "\n",
        "model2.summary()"
      ]
    },
    {
      "cell_type": "code",
      "execution_count": null,
      "metadata": {
        "colab": {
          "base_uri": "https://localhost:8080/"
        },
        "id": "t1OKrnNXPED7",
        "outputId": "a2ae1f95-66c9-4a60-da24-8bf6c5cc7983"
      },
      "outputs": [
        {
          "name": "stdout",
          "output_type": "stream",
          "text": [
            "4287/4287 [==============================] - 90s 21ms/step - loss: 3365623296.0000\n",
            "4287/4287 [==============================] - 87s 20ms/step - loss: 24540.6777\n",
            "4287/4287 [==============================] - 91s 21ms/step - loss: 11417.5537\n",
            "4287/4287 [==============================] - 90s 21ms/step - loss: 9923.0713\n",
            "4287/4287 [==============================] - 88s 21ms/step - loss: 8787.3223\n",
            "4287/4287 [==============================] - 85s 20ms/step - loss: 9261.4668\n",
            "4287/4287 [==============================] - 88s 21ms/step - loss: 9145.8672\n",
            "4287/4287 [==============================] - 92s 22ms/step - loss: 8552.3359\n",
            "4287/4287 [==============================] - 94s 22ms/step - loss: 8799.6289\n",
            "4287/4287 [==============================] - 94s 22ms/step - loss: 8625.5352\n"
          ]
        }
      ],
      "source": [
        "\n",
        "\n",
        "model2.compile(optimizer = 'adam', loss='mean_squared_error')\n",
        "\n",
        "for i in range(10):\n",
        "    model2.fit(X_train1, y_train1, epochs=1, batch_size=batch_size,  shuffle=False)\n",
        "    model2.reset_states()"
      ]
    },
    {
      "cell_type": "code",
      "execution_count": null,
      "metadata": {
        "id": "KJHp-0loWWOM"
      },
      "outputs": [],
      "source": [
        "history = []\n",
        "batch_size=1\n",
        "for i in range(X_test1.shape[0]//batch_size):\n",
        "  pre = model2.predict(X_test1[i,:,:].reshape(batch_size,18,1137),batch_size = batch_size,verbose = 0)\n",
        "  history.append(pre[0])\n",
        "pred = np.asarray(history)"
      ]
    },
    {
      "cell_type": "markdown",
      "metadata": {
        "id": "jVlbS3k5PNLK"
      },
      "source": []
    },
    {
      "cell_type": "code",
      "execution_count": null,
      "metadata": {
        "id": "n1UwEZg-UlA1"
      },
      "outputs": [],
      "source": [
        "def measure_the_error(actual,pred):\n",
        "    rmse_list=[]\n",
        "    mae_list=[]\n",
        "    num=int(len(pred)/35)\n",
        "    root_mean_square=np.sqrt(np.square(np.subtract(actual,pred)).mean(axis=1))\n",
        "    mean_absolute_error=abs(np.subtract(actual,pred)).mean(axis=1)\n",
        "    for i in range(num):\n",
        "\n",
        "        cur=35*i\n",
        "        rmse_list.append(root_mean_square[cur:cur+35].mean())\n",
        "        mae_list.append(mean_absolute_error[cur:cur+35].mean())\n",
        "    # mean_absolute_percentage=np.mean(np.abs((actual - pred)/actual))*100\n",
        "    # rmse = math.sqrt(mean_square)\n",
        "    return rmse_list,mae_list\n",
        "\n",
        "\n",
        "rmse,mae_list = measure_the_error(pred,y_test1.reshape(1050,1137))\n"
      ]
    },
    {
      "cell_type": "code",
      "execution_count": null,
      "metadata": {
        "colab": {
          "base_uri": "https://localhost:8080/"
        },
        "id": "vz-nYZzngJNC",
        "outputId": "cafb3140-bb62-4ee3-86bf-e0339417bcd0"
      },
      "outputs": [
        {
          "data": {
            "text/plain": [
              "[41.10887578280718,\n",
              " 40.468267969254576,\n",
              " 29.23438085178533,\n",
              " 51.855207258931934,\n",
              " 53.52965732706335,\n",
              " 53.56912556759614,\n",
              " 53.914424379720096,\n",
              " 53.918171689968275,\n",
              " 34.822175621479836,\n",
              " 28.88489054172339,\n",
              " 53.73624766046661,\n",
              " 53.26520476344116,\n",
              " 53.89690844750153,\n",
              " 55.627022979655784,\n",
              " 51.88024715125388,\n",
              " 34.96106811104971,\n",
              " 29.21365601151757,\n",
              " 52.417991562286765,\n",
              " 54.892965546399054,\n",
              " 52.48606777834332,\n",
              " 54.93399313157754,\n",
              " 54.857221330924126,\n",
              " 35.572771263582986,\n",
              " 30.51484928354741,\n",
              " 51.8933841108132,\n",
              " 53.65791578916836,\n",
              " 54.26924423016843,\n",
              " 56.4999820943571,\n",
              " 63.99499466281991,\n",
              " 44.23330925431815]"
            ]
          },
          "execution_count": 28,
          "metadata": {},
          "output_type": "execute_result"
        }
      ],
      "source": [
        "rmse"
      ]
    }
  ],
  "metadata": {
    "colab": {
      "provenance": []
    },
    "kernelspec": {
      "display_name": "Python 3",
      "name": "python3"
    },
    "language_info": {
      "name": "python"
    }
  },
  "nbformat": 4,
  "nbformat_minor": 0
}
